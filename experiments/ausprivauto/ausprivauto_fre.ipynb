{
 "cells": [
  {
   "cell_type": "code",
   "execution_count": null,
   "metadata": {},
   "outputs": [],
   "source": [
    "import pandas as pd\n",
    "import InsurAutoML\n",
    "from InsurAutoML import load_data, AutoTabularRegressor\n",
    "from sklearn.metrics import mean_poisson_deviance\n",
    "\n",
    "seed = 42\n",
    "n_trials = 128\n",
    "N_ESTIMATORS = 5\n",
    "TIMEOUT = (n_trials / 4) * 450\n",
    "\n",
    "InsurAutoML.set_seed(seed)"
   ]
  },
  {
   "cell_type": "code",
   "execution_count": null,
   "metadata": {},
   "outputs": [],
   "source": [
    "# load data\n",
    "database = load_data(data_type = \".csv\").load(path = \"\")\n",
    "database_names = [*database]\n",
    "database_names"
   ]
  },
  {
   "cell_type": "code",
   "execution_count": null,
   "metadata": {},
   "outputs": [],
   "source": [
    "database[\"ausprivauto\"].head(5)"
   ]
  },
  {
   "cell_type": "code",
   "execution_count": null,
   "metadata": {},
   "outputs": [],
   "source": [
    "# define response/features\n",
    "response = \"ClaimNb\"\n",
    "features = list(\n",
    "    set(database[\"ausprivauto\"].columns) - set([\"ClaimOcc\", \"ClaimNb\", \"ClaimAmount\"])\n",
    ")\n",
    "features.sort()"
   ]
  },
  {
   "cell_type": "code",
   "execution_count": null,
   "metadata": {},
   "outputs": [],
   "source": [
    "# train/test split\n",
    "# first time running\n",
    "from InsurAutoML.utils import train_test_split\n",
    "train_X, test_X, train_y, test_y = train_test_split(\n",
    "    database['ausprivauto'][features], database['ausprivauto'][[response]], test_perc = 0.1, seed = seed\n",
    ")\n",
    "pd.DataFrame(train_X.index.sort_values()).to_csv(\"train_index.csv\", index=False)\n",
    "# Use the same train/test split across all models for 2+ runs\n",
    "# train_idx = pd.read_csv(\"train_index.csv\", header=None).values.flatten()\n",
    "# test_idx = database[\"ausprivauto\"].index.difference(train_idx)\n",
    "# train_X, test_X, train_y, test_y = (\n",
    "#     database[\"ausprivauto\"].loc[train_idx, features],\n",
    "#     database[\"ausprivauto\"].loc[test_idx, features],\n",
    "#     database[\"ausprivauto\"].loc[train_idx, response],\n",
    "#     database[\"ausprivauto\"].loc[test_idx, response],\n",
    "# )"
   ]
  },
  {
   "cell_type": "code",
   "execution_count": null,
   "metadata": {},
   "outputs": [],
   "source": [
    "# fit AutoML model\n",
    "mol = AutoTabularRegressor(\n",
    "    model_name = \"ausprivauto_fre_{}\".format(n_trials),\n",
    "    max_evals=n_trials,\n",
    "    n_estimators=N_ESTIMATORS,\n",
    "    timeout=TIMEOUT,\n",
    "    validation=\"KFold\",\n",
    "    valid_size=0.2,\n",
    "    search_algo=\"Optuna\",\n",
    "    objective=mean_poisson_deviance,\n",
    "    cpu_threads = 12,\n",
    "    seed = seed,\n",
    ")\n",
    "mol.fit(train_X, train_y)"
   ]
  },
  {
   "cell_type": "code",
   "execution_count": null,
   "metadata": {},
   "outputs": [],
   "source": [
    "y_train_pred = mol.predict(train_X)\n",
    "y_test_pred = mol.predict(test_X)\n",
    "mean_poisson_deviance(train_y, y_train_pred), mean_poisson_deviance(test_y, y_test_pred)"
   ]
  }
 ],
 "metadata": {
  "kernelspec": {
   "display_name": "AutoML",
   "language": "python",
   "name": "python3"
  },
  "language_info": {
   "codemirror_mode": {
    "name": "ipython",
    "version": 3
   },
   "file_extension": ".py",
   "mimetype": "text/x-python",
   "name": "python",
   "nbconvert_exporter": "python",
   "pygments_lexer": "ipython3",
   "version": "3.10.9"
  },
  "orig_nbformat": 4
 },
 "nbformat": 4,
 "nbformat_minor": 2
}
