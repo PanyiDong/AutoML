{
 "cells": [
  {
   "cell_type": "code",
   "execution_count": null,
   "metadata": {},
   "outputs": [],
   "source": [
    "import InsurAutoML\n",
    "from InsurAutoML import load_data, AutoTabularRegressor\n",
    "import numpy as np\n",
    "from sklearn.metrics import r2_score\n",
    "\n",
    "seed = 42\n",
    "n_trials = 64\n",
    "N_ESTIMATORS = 5\n",
    "TIMEOUT = (n_trials / 4) * 450\n",
    "\n",
    "InsurAutoML.set_seed(seed)"
   ]
  },
  {
   "cell_type": "code",
   "execution_count": null,
   "metadata": {},
   "outputs": [],
   "source": [
    "# load data\n",
    "database = load_data(data_type = \".rdata\").load(path = \"\")\n",
    "database_names = [*database]\n",
    "database_names"
   ]
  },
  {
   "cell_type": "code",
   "execution_count": null,
   "metadata": {},
   "outputs": [],
   "source": [
    "database[\"data\"].head(5)"
   ]
  },
  {
   "cell_type": "code",
   "execution_count": null,
   "metadata": {},
   "outputs": [],
   "source": [
    "response = [\"yAvgBC\"]\n",
    "features = [\n",
    "    'TypeCity', 'TypeCounty', 'TypeMisc', 'TypeSchool', 'TypeTown', 'TypeVillage', 'IsRC', 'CoverageBC', 'lnDeductBC', \n",
    "    'NoClaimCreditBC', 'CoverageIM', 'lnDeductIM', 'NoClaimCreditIM', 'CoveragePN', 'NoClaimCreditPN', 'CoveragePO', \n",
    "    'NoClaimCreditPO','CoverageCN', 'NoClaimCreditCN', 'CoverageCO', 'NoClaimCreditCO'\n",
    "]\n",
    "# log transform of response\n",
    "database[\"data\"][response] = np.log(database[\"data\"][response] + 1)\n",
    "database[\"dataout\"][response] = np.log(database[\"dataout\"][response] + 1)\n",
    "# log transform of coverage feateres\n",
    "database[\"data\"][[\"CoverageBC\", \"CoverageIM\", \"CoveragePN\", \"CoveragePO\", \"CoverageCN\", \"CoverageCO\"]] = np.log(\n",
    "    database[\"data\"][[\"CoverageBC\", \"CoverageIM\", \"CoveragePN\", \"CoveragePO\", \"CoverageCN\", \"CoverageCO\"]] + 1\n",
    ")\n",
    "database[\"dataout\"][[\"CoverageBC\", \"CoverageIM\", \"CoveragePN\", \"CoveragePO\", \"CoverageCN\", \"CoverageCO\"]] = np.log(\n",
    "    database[\"dataout\"][[\"CoverageBC\", \"CoverageIM\", \"CoveragePN\", \"CoveragePO\", \"CoverageCN\", \"CoverageCO\"]] + 1\n",
    ")\n",
    "\n",
    "train_X, train_y = database[\"data\"][features], database[\"data\"][response]\n",
    "test_X, test_y = database[\"dataout\"][features], database[\"dataout\"][response]"
   ]
  },
  {
   "cell_type": "code",
   "execution_count": null,
   "metadata": {},
   "outputs": [],
   "source": [
    "# fit AutoML model\n",
    "mol = AutoTabularRegressor(\n",
    "    model_name = \"LGPIF_{}\".format(n_trials),\n",
    "    n_estimators = N_ESTIMATORS,    \n",
    "    max_evals = n_trials,\n",
    "    timeout = TIMEOUT,\n",
    "    validation=\"KFold\",\n",
    "    valid_size=0.2,\n",
    "    search_algo=\"HyperOpt\",\n",
    "    objective= \"R2\",\n",
    "    cpu_threads = 12,\n",
    "    seed = seed,    \n",
    ")\n",
    "mol.fit(train_X, train_y)"
   ]
  },
  {
   "cell_type": "code",
   "execution_count": null,
   "metadata": {},
   "outputs": [],
   "source": [
    "train_pred = mol.predict(train_X)\n",
    "test_pred = mol.predict(test_X)\n",
    "r2_score(train_y, train_pred), r2_score(test_y, test_pred)"
   ]
  }
 ],
 "metadata": {
  "kernelspec": {
   "display_name": "Python 3",
   "language": "python",
   "name": "python3"
  },
  "language_info": {
   "codemirror_mode": {
    "name": "ipython",
    "version": 3
   },
   "file_extension": ".py",
   "mimetype": "text/x-python",
   "name": "python",
   "nbconvert_exporter": "python",
   "pygments_lexer": "ipython3",
   "version": "3.10.9"
  },
  "orig_nbformat": 4
 },
 "nbformat": 4,
 "nbformat_minor": 2
}
