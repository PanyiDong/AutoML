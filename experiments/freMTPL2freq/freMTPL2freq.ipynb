{
 "cells": [
  {
   "cell_type": "code",
   "execution_count": null,
   "metadata": {},
   "outputs": [],
   "source": [
    "import InsurAutoML\n",
    "from InsurAutoML import load_data, AutoTabularRegressor\n",
    "import numpy as np\n",
    "import pandas as pd\n",
    "from sklearn.metrics import mean_poisson_deviance\n",
    "\n",
    "seed = 42\n",
    "n_trials = 64\n",
    "N_ESTIMATORS = 5\n",
    "TIMEOUT = (n_trials / 4) * 450\n",
    "\n",
    "InsurAutoML.set_seed(seed)"
   ]
  },
  {
   "cell_type": "code",
   "execution_count": null,
   "metadata": {},
   "outputs": [],
   "source": [
    "# load data\n",
    "database = load_data(data_type = \".csv\").load(path = \"\")\n",
    "database_names = [*database]\n",
    "database_names"
   ]
  },
  {
   "cell_type": "code",
   "execution_count": null,
   "metadata": {},
   "outputs": [],
   "source": [
    "database[\"freMTPL2freq\"].head(5)"
   ]
  },
  {
   "cell_type": "code",
   "execution_count": null,
   "metadata": {},
   "outputs": [],
   "source": [
    "# define response/features\n",
    "response = \"ClaimNb\"\n",
    "features = np.sort(list(\n",
    "    set(database[\"freMTPL2freq\"].columns) - set([\"IDpol\", \"ClaimNb\"])\n",
    "))"
   ]
  },
  {
   "attachments": {},
   "cell_type": "markdown",
   "metadata": {},
   "source": [
    "#### Train index generation R code\n",
    "\n",
    "Case Study: French Motor Third-Party Liability Claims\n",
    "```{R}\n",
    "RNGversion(\"3.5.0\")\n",
    "set.seed (100)\n",
    "ll <- sample (c (1: nrow ( freMTPL2freq )) , round (0.9* nrow ( freMTPL2freq )) , replace = FALSE )\n",
    "write.csv(ll, \"train_index.csv\") # the train_index.csv generated in R is utilized in AutoML train/test split\n",
    "```"
   ]
  },
  {
   "cell_type": "code",
   "execution_count": null,
   "metadata": {},
   "outputs": [],
   "source": [
    "# read train index & get test index\n",
    "# python dataframe index starts from 0, but R starts from 1\n",
    "train_index = np.sort(pd.read_csv(\"train_index.csv\").values.flatten()) - 1\n",
    "test_index = np.sort(\n",
    "    list(set(database[\"freMTPL2freq\"].index) - set(train_index))\n",
    ")\n",
    "# train/test split\n",
    "train_X, test_X, train_y, test_y = (\n",
    "    database[\"freMTPL2freq\"].loc[train_index, features], database[\"freMTPL2freq\"].loc[test_index, features], \n",
    "    database[\"freMTPL2freq\"].loc[train_index, response], database[\"freMTPL2freq\"].loc[test_index, response],\n",
    ")"
   ]
  },
  {
   "cell_type": "code",
   "execution_count": null,
   "metadata": {},
   "outputs": [],
   "source": [
    "# fit AutoML model\n",
    "mol = AutoTabularRegressor(\n",
    "    model_name = \"freMTPL2freq_{}\".format(n_trials),\n",
    "    n_estimators = N_ESTIMATORS,\n",
    "    max_evals = n_trials,\n",
    "    timeout = TIMEOUT,\n",
    "    validation=False,\n",
    "    search_algo=\"HyperOpt\",\n",
    "    objective= mean_poisson_deviance,\n",
    "    cpu_threads = 12,\n",
    "    balancing = [\"SimpleRandomOverSampling\", \"SimpleRandomUnderSampling\"],\n",
    "    seed = seed,    \n",
    ")\n",
    "mol.fit(train_X, train_y)"
   ]
  },
  {
   "cell_type": "code",
   "execution_count": null,
   "metadata": {},
   "outputs": [],
   "source": [
    "train_pred = mol.predict(train_X)\n",
    "test_pred = mol.predict(test_X)\n",
    "\n",
    "mean_poisson_deviance(train_y, train_pred), mean_poisson_deviance(test_y, test_pred)"
   ]
  }
 ],
 "metadata": {
  "kernelspec": {
   "display_name": "AutoML",
   "language": "python",
   "name": "automl"
  },
  "language_info": {
   "codemirror_mode": {
    "name": "ipython",
    "version": 3
   },
   "file_extension": ".py",
   "mimetype": "text/x-python",
   "name": "python",
   "nbconvert_exporter": "python",
   "pygments_lexer": "ipython3",
   "version": "3.10.9"
  },
  "orig_nbformat": 4
 },
 "nbformat": 4,
 "nbformat_minor": 2
}
