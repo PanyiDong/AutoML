{
 "cells": [
  {
   "cell_type": "code",
   "execution_count": 1,
   "metadata": {},
   "outputs": [],
   "source": [
    "from My_AutoML import load_data, train_test_split, type_of_task\n",
    "from My_AutoML import AutoTabular, AutoTabularClassifier, AutoTabularRegressor"
   ]
  },
  {
   "cell_type": "code",
   "execution_count": 2,
   "metadata": {},
   "outputs": [
    {
     "data": {
      "text/plain": [
       "{'heart':      Age Sex ChestPainType  RestingBP  Cholesterol  FastingBS RestingECG  \\\n",
       " 0     40   M           ATA        140          289          0     Normal   \n",
       " 1     49   F           NAP        160          180          0     Normal   \n",
       " 2     37   M           ATA        130          283          0         ST   \n",
       " 3     48   F           ASY        138          214          0     Normal   \n",
       " 4     54   M           NAP        150          195          0     Normal   \n",
       " ..   ...  ..           ...        ...          ...        ...        ...   \n",
       " 913   45   M            TA        110          264          0     Normal   \n",
       " 914   68   M           ASY        144          193          1     Normal   \n",
       " 915   57   M           ASY        130          131          0     Normal   \n",
       " 916   57   F           ATA        130          236          0        LVH   \n",
       " 917   38   M           NAP        138          175          0     Normal   \n",
       " \n",
       "      MaxHR ExerciseAngina  Oldpeak ST_Slope  HeartDisease  \n",
       " 0      172              N      0.0       Up             0  \n",
       " 1      156              N      1.0     Flat             1  \n",
       " 2       98              N      0.0       Up             0  \n",
       " 3      108              Y      1.5     Flat             1  \n",
       " 4      122              N      0.0       Up             0  \n",
       " ..     ...            ...      ...      ...           ...  \n",
       " 913    132              N      1.2     Flat             1  \n",
       " 914    141              N      3.4     Flat             1  \n",
       " 915    115              Y      1.2     Flat             1  \n",
       " 916    174              N      0.0     Flat             1  \n",
       " 917    173              N      0.0       Up             0  \n",
       " \n",
       " [918 rows x 12 columns]}"
      ]
     },
     "execution_count": 2,
     "metadata": {},
     "output_type": "execute_result"
    }
   ],
   "source": [
    "data = load_data().load(\"example/example_data\", [\"heart\"])\n",
    "data"
   ]
  },
  {
   "cell_type": "code",
   "execution_count": 3,
   "metadata": {},
   "outputs": [],
   "source": [
    "features = list(data[\"heart\"].columns)\n",
    "features.remove(\"HeartDisease\")\n",
    "response = [\"HeartDisease\"]"
   ]
  },
  {
   "cell_type": "code",
   "execution_count": 4,
   "metadata": {},
   "outputs": [],
   "source": [
    "train_X, test_X, train_y, test_y = train_test_split(data[\"heart\"][features], data[\"heart\"][response])"
   ]
  },
  {
   "cell_type": "code",
   "execution_count": 6,
   "metadata": {},
   "outputs": [
    {
     "name": "stdout",
     "output_type": "stream",
     "text": [
      "100%|██████████| 64/64 [00:59<00:00,  1.08trial/s, best loss: -0.8983050847457628]\n"
     ]
    },
    {
     "data": {
      "text/plain": [
       "<My_AutoML._model_selection._ML.AutoTabular at 0x7f85e6cc0640>"
      ]
     },
     "execution_count": 6,
     "metadata": {},
     "output_type": "execute_result"
    }
   ],
   "source": [
    "# mol = AutoTabular(search_algo=\"GridSearch\", verbose = 2)\n",
    "mol = AutoTabular()\n",
    "mol.fit(train_X, train_y)"
   ]
  }
 ],
 "metadata": {
  "interpreter": {
   "hash": "d32e1e2c1542cd34963dcb28310e0399d1559b31f4550688ff681e2200a9d2c0"
  },
  "kernelspec": {
   "display_name": "Python 3.9.7 ('pytorch')",
   "language": "python",
   "name": "python3"
  },
  "language_info": {
   "codemirror_mode": {
    "name": "ipython",
    "version": 3
   },
   "file_extension": ".py",
   "mimetype": "text/x-python",
   "name": "python",
   "nbconvert_exporter": "python",
   "pygments_lexer": "ipython3",
   "version": "3.9.7"
  },
  "orig_nbformat": 4
 },
 "nbformat": 4,
 "nbformat_minor": 2
}
